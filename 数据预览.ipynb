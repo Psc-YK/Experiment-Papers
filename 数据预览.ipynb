{
 "cells": [
  {
   "cell_type": "markdown",
   "id": "23289c2feb98d6bf",
   "metadata": {},
   "source": [
    "# 数据加载"
   ]
  },
  {
   "cell_type": "code",
   "execution_count": 1,
   "id": "c060ade30fec5cb9",
   "metadata": {
    "ExecuteTime": {
     "end_time": "2024-07-30T07:59:19.614242Z",
     "start_time": "2024-07-30T07:59:16.383749Z"
    }
   },
   "outputs": [],
   "source": [
    "import pandas as pd\n",
    "import numpy as np\n",
    "import scipy.io as sio\n",
    "from scipy import sparse\n",
    "from sklearn.model_selection import train_test_split\n",
    "from utils import util\n",
    "import argparse\n",
    "import itertools\n",
    "import time\n",
    "import torch\n",
    "from model_multiview import DCPMultiView\n",
    "from utils.get_mask import get_mask\n",
    "from utils.util import cal_classify\n",
    "from utils.logger import get_logger\n",
    "from utils.datasets import *\n",
    "from configure.configure_supervised_multiview import get_default_config\n",
    "import collections"
   ]
  },
  {
   "cell_type": "code",
   "execution_count": 2,
   "id": "a0d762a520535185",
   "metadata": {
    "ExecuteTime": {
     "end_time": "2024-07-30T07:59:20.394352Z",
     "start_time": "2024-07-30T07:59:20.391352Z"
    }
   },
   "outputs": [],
   "source": [
    "import warnings\n",
    "warnings.simplefilter(\"ignore\")"
   ]
  },
  {
   "cell_type": "code",
   "execution_count": 3,
   "id": "4eed3ea519f153d0",
   "metadata": {
    "ExecuteTime": {
     "end_time": "2024-07-30T08:05:59.781800Z",
     "start_time": "2024-07-30T08:05:59.769801Z"
    }
   },
   "outputs": [
    {
     "name": "stdout",
     "output_type": "stream",
     "text": [
      "train_x1 前五项：\n",
      "[[71.4  8.   0.   1. ]\n",
      " [81.5 18.   0.   0. ]\n",
      " [68.6 12.   0.   1. ]\n",
      " [86.8 16.   0.   2. ]\n",
      " [84.3 18.   3.   1. ]]\n",
      "\n",
      "train_x2 前五项：\n",
      "[[  5.    17.    27.     9.    23.     2.   -14.48 -12.09]\n",
      " [  4.5   26.67  36.67  10.    24.     1.   -16.62 -15.44]\n",
      " [  3.    24.    34.    10.    23.     0.   -15.34 -13.74]\n",
      " [  3.5   18.    29.    10.    26.     0.   -11.45 -10.28]\n",
      " [  2.5   14.    24.    10.    24.     0.   -10.84 -12.87]]\n",
      "\n",
      "train_x3 前五项：\n",
      "[[  28866.    4852.    2177.   13843.   20027. 1361930.]\n",
      " [  61993.    4988.    2452.   12337.   13002. 1305270.]\n",
      " [  34380.    6330.    2705.   15933.   19961. 1746260.]\n",
      " [  46630.    5161.    3385.   17842.   16481. 1549250.]\n",
      " [  19619.    4041.    1928.   14607.   16783. 1354830.]]\n",
      "\n",
      "train_x4 前五项：\n",
      "[[871.83 306.47  30.18]\n",
      " [743.9  442.4   40.09]\n",
      " [871.83 306.47  30.18]\n",
      " [871.83 306.47  30.18]\n",
      " [410.2  362.1   34.9 ]]\n",
      "\n",
      "train_x5 前五项：\n",
      "[[ 2.85  3.14  4.98  1.52  5.52  1.27  2.74  2.47  3.35  3.66  0.97  0.82\n",
      "   3.03  4.99  2.35  5.27  2.48  7.63  3.11  3.06  3.91  4.04  4.78  8.02\n",
      "   4.24 14.37  9.48 10.27  1.  ]\n",
      " [ 2.33  3.65  4.48  1.48  4.97  1.1   2.32  2.29  2.92  3.24  0.9   0.87\n",
      "   2.98  4.75  2.28  4.19  2.25  6.73  3.22  2.79  3.28  3.32  3.49  6.34\n",
      "   4.16  9.55  7.1   8.56  1.  ]\n",
      " [ 2.73  4.01  5.91  1.97  6.59  1.22  3.43  2.91  4.1   4.36  1.15  0.9\n",
      "   4.56  7.66  3.07  5.36  3.3   8.99  4.79  3.64  4.91  3.58  4.33  9.72\n",
      "   4.84 15.03  9.17 10.48  1.  ]\n",
      " [ 2.69  3.58  5.48  1.74  5.71  1.23  2.96  2.87  4.02  4.24  1.39  1.19\n",
      "   3.23  5.47  2.34  5.79  3.56  7.84  3.74  2.75  4.15  3.69  4.81  6.89\n",
      "   4.83 11.74  9.55 10.65  1.  ]\n",
      " [ 2.55  3.91  4.61  1.31  5.69  1.02  2.18  2.16  3.05  2.97  0.68  0.69\n",
      "   4.18  6.37  2.85  5.71  3.03  7.37  4.72  3.39  4.96  3.05  3.8   7.41\n",
      "   3.97 13.13  8.36  9.06  1.  ]]\n"
     ]
    }
   ],
   "source": [
    "data = pd.read_csv(r'C:\\Users\\psck\\Desktop\\数据_最终.csv')\n",
    "train_x1 = data.iloc[:, 0:4].values\n",
    "train_x2 = data.iloc[:, 4:12].values\n",
    "train_x3 = data.iloc[:, 12:18].values\n",
    "train_x4 = data.iloc[:, 18:21].values\n",
    "train_x5 = data.iloc[:, 21:].values\n",
    "# print(train_x1)\n",
    "\n",
    "print(\"train_x1 前五项：\")\n",
    "print(train_x1[:5])\n",
    "\n",
    "print(\"\\ntrain_x2 前五项：\")\n",
    "print(train_x2[:5])\n",
    "\n",
    "print(\"\\ntrain_x3 前五项：\")\n",
    "print(train_x3[:5])\n",
    "\n",
    "print(\"\\ntrain_x4 前五项：\")\n",
    "print(train_x4[:5])\n",
    "\n",
    "print(\"\\ntrain_x5 前五项：\")\n",
    "print(train_x5[:5])\n"
   ]
  },
  {
   "cell_type": "markdown",
   "id": "e54b0de67f8949af",
   "metadata": {},
   "source": [
    "# 导入数据"
   ]
  },
  {
   "cell_type": "code",
   "execution_count": 7,
   "id": "6e7ed0b8e1484076",
   "metadata": {
    "ExecuteTime": {
     "end_time": "2024-06-24T09:02:47.958105Z",
     "start_time": "2024-06-24T09:02:47.940409Z"
    }
   },
   "outputs": [
    {
     "name": "stdout",
     "output_type": "stream",
     "text": [
      "(645, 49)\n"
     ]
    }
   ],
   "source": [
    "import pandas as pd\n",
    "from sklearn.model_selection import train_test_split\n",
    "# np.set_printoptions(suppress=True, precision=2)\n",
    "data = pd.read_csv(r'C:\\Users\\psck\\Desktop\\数据_最终.csv')\n",
    "train_x = data.iloc[:, 0:49].values\n",
    "train_y = data.iloc[:, 49:].values\n",
    "# print(train_x)\n",
    "# print(train_y)\n",
    "X_list=train_x\n",
    "Y_list=train_y\n",
    "\n",
    "# print(train_x)\n",
    "# print(train_y)\n",
    "print(train_x.shape)"
   ]
  },
  {
   "cell_type": "code",
   "execution_count": null,
   "id": "1cc64b65688badc1",
   "metadata": {},
   "outputs": [],
   "source": [
    "x1_train_raw = train_x[:, 0:4]\n",
    "x2_train_raw = train_x[:, 4:12]\n",
    "x3_train_raw = train_x[:, 12:18]\n",
    "x4_train_raw = train_x[:, 18:21]\n",
    "x5_train_raw = train_x[:, 21:]\n",
    "label_raw=Y_list\n",
    "\n",
    "# print(x2_train_raw[:3])\n",
    "# print(x2_train_raw.shape[1])\n",
    "# print(x2_train_raw.shape)\n",
    "# print(x2_train_raw)\n",
    "# print(x1_train_raw)\n",
    "len1 = x1_train_raw.shape[1]\n",
    "len2 = x2_train_raw.shape[1] + x1_train_raw.shape[1]\n",
    "len3 = x3_train_raw.shape[1] + x2_train_raw.shape[1] + x1_train_raw.shape[1]\n",
    "len4 = x4_train_raw.shape[1] + x3_train_raw.shape[1] + x2_train_raw.shape[1] + x1_train_raw.shape[1]\n",
    "len5 =  len4 + x5_train_raw.shape[1]\n",
    "# data2 = np.concatenate([x1_train_raw, x2_train_raw, x3_train_raw, x4_train_raw, x5_train_raw], axis=1)\n",
    "# print(len1,len2,len3,len4,len5)\n",
    "\n",
    "x_train, x_test, labels_train, labels_test = train_test_split(train_x, label_raw, test_size=0.2)  # 测试集的比例为20%\n",
    "x1_train = x_train[:, 0:len1]\n",
    "x2_train = x_train[:, len1:len2]\n",
    "x3_train = x_train[:, len2:len3]\n",
    "x4_train = x_train[:, len3:len4]\n",
    "x5_train = x_train[:, len4:len5]\n",
    "\n",
    "x1_test = x_test[:, :len1]\n",
    "x2_test = x_test[:, len1:len2]\n",
    "x3_test = x_test[:, len2:len3]\n",
    "x4_test = x_test[:, len3:len4]\n",
    "x5_test = x_test[:, len4:len5]\n",
    "# \n",
    "# GT = torch.from_numpy(labels_train).long()\n",
    "# print(x5_test)\n",
    "# print(type(data))\n",
    "# print(type(train_x))\n",
    "\n",
    "# print(len1, len2, len3, len4, len5)\n",
    "# print(x1_train.shape, x2_train.shape, x3_train.shape, x4_train.shape, x5_train.shape)\n",
    "# print(x1_test.shape, x2_test.shape, x3_test.shape, x4_test.shape, x5_test.shape)\n",
    "# print(data.head())\n",
    "# print(x5_test)\n",
    "# classes = np.unique(Y_list).size\n",
    "# print(classes)\n",
    "# print(x1_train)\n",
    "# print(x4_test)\n",
    "# print(type(x1_train))\n",
    "# print(x2_train)\n",
    "# device = torch.device('cuda' if use_cuda else 'cpu')\n",
    "# device = torch.device('cuda')\n",
    "# torch_tensor2 = torch.from_numpy(x2_train)\n",
    "# print(torch_tensor2)"
   ]
  }
 ],
 "metadata": {
  "kernelspec": {
   "display_name": "Python 3",
   "language": "python",
   "name": "python3"
  },
  "language_info": {
   "codemirror_mode": {
    "name": "ipython",
    "version": 3
   },
   "file_extension": ".py",
   "mimetype": "text/x-python",
   "name": "python",
   "nbconvert_exporter": "python",
   "pygments_lexer": "ipython3",
   "version": "3.9.19"
  }
 },
 "nbformat": 4,
 "nbformat_minor": 5
}
